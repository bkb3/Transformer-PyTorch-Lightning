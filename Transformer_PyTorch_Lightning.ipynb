{
 "cells": [
  {
   "cell_type": "code",
   "execution_count": 1,
   "id": "fcada710",
   "metadata": {},
   "outputs": [
    {
     "name": "stdout",
     "output_type": "stream",
     "text": [
      "Using cuda device\n"
     ]
    }
   ],
   "source": [
    "import os\n",
    "\n",
    "import pandas as pd\n",
    "import numpy as np\n",
    "\n",
    "import torch\n",
    "from torch.utils.data import random_split, DataLoader\n",
    "import torch.nn as nn\n",
    "from torchmetrics import Accuracy\n",
    "\n",
    "import pytorch_lightning as pl\n",
    "from vit_pytorch.vit_1d import ViT\n",
    "\n",
    "NUM_WORKERS = int(os.cpu_count() // 4)\n",
    "\n",
    "device = (\n",
    "    \"cuda\"\n",
    "    if torch.cuda.is_available()\n",
    "    else \"mps\"\n",
    "    if torch.backends.mps.is_available()\n",
    "    else \"cpu\"\n",
    ")\n",
    "print(f\"Using {device} device\")\n",
    "torch.set_float32_matmul_precision('medium')"
   ]
  },
  {
   "cell_type": "markdown",
   "id": "cdba1e26",
   "metadata": {},
   "source": [
    "#### Import training/testing data"
   ]
  },
  {
   "cell_type": "code",
   "execution_count": 2,
   "id": "3662c263",
   "metadata": {},
   "outputs": [],
   "source": [
    "train_df = pd.read_pickle('train.pkl.gz').sample(frac=1, random_state=1)\n",
    "test_df = pd.read_pickle('test.pkl.gz').sample(frac=1, random_state=2)"
   ]
  },
  {
   "cell_type": "code",
   "execution_count": 3,
   "id": "a139a61b",
   "metadata": {},
   "outputs": [
    {
     "data": {
      "text/html": [
       "<div>\n",
       "<style scoped>\n",
       "    .dataframe tbody tr th:only-of-type {\n",
       "        vertical-align: middle;\n",
       "    }\n",
       "\n",
       "    .dataframe tbody tr th {\n",
       "        vertical-align: top;\n",
       "    }\n",
       "\n",
       "    .dataframe thead th {\n",
       "        text-align: right;\n",
       "    }\n",
       "</style>\n",
       "<table border=\"1\" class=\"dataframe\">\n",
       "  <thead>\n",
       "    <tr style=\"text-align: right;\">\n",
       "      <th></th>\n",
       "      <th>Data</th>\n",
       "      <th>Label</th>\n",
       "    </tr>\n",
       "  </thead>\n",
       "  <tbody>\n",
       "    <tr>\n",
       "      <th>674</th>\n",
       "      <td>[[1, 1, 2, 0, 0, 0, 0, 0, 0, 0, 1, 0, 0, 0, 0,...</td>\n",
       "      <td>674</td>\n",
       "    </tr>\n",
       "    <tr>\n",
       "      <th>1699</th>\n",
       "      <td>[[1, 0, 1, 0, 0, 0, 0, 0, 0, 0, 0, 0, 0, 0, 0,...</td>\n",
       "      <td>1699</td>\n",
       "    </tr>\n",
       "    <tr>\n",
       "      <th>1282</th>\n",
       "      <td>[[2, 1, 1, 0, 2, 0, 0, 0, 0, 0, 0, 1, 0, 0, 1,...</td>\n",
       "      <td>1282</td>\n",
       "    </tr>\n",
       "    <tr>\n",
       "      <th>1315</th>\n",
       "      <td>[[0, 0, 2, 1, 0, 0, 0, 0, 0, 0, 0, 0, 0, 0, 0,...</td>\n",
       "      <td>1315</td>\n",
       "    </tr>\n",
       "  </tbody>\n",
       "</table>\n",
       "</div>"
      ],
      "text/plain": [
       "                                                   Data  Label\n",
       "674   [[1, 1, 2, 0, 0, 0, 0, 0, 0, 0, 1, 0, 0, 0, 0,...    674\n",
       "1699  [[1, 0, 1, 0, 0, 0, 0, 0, 0, 0, 0, 0, 0, 0, 0,...   1699\n",
       "1282  [[2, 1, 1, 0, 2, 0, 0, 0, 0, 0, 0, 1, 0, 0, 1,...   1282\n",
       "1315  [[0, 0, 2, 1, 0, 0, 0, 0, 0, 0, 0, 0, 0, 0, 0,...   1315"
      ]
     },
     "execution_count": 3,
     "metadata": {},
     "output_type": "execute_result"
    }
   ],
   "source": [
    "train_df.head(4)"
   ]
  },
  {
   "cell_type": "markdown",
   "id": "b2fb9143",
   "metadata": {},
   "source": [
    "#### Each data is a (250, 128) numpy array per label"
   ]
  },
  {
   "cell_type": "code",
   "execution_count": 4,
   "id": "bfa0380a",
   "metadata": {},
   "outputs": [
    {
     "data": {
      "text/plain": [
       "((2000, 250, 128), (2000,), (2000, 250, 128), (2000,))"
      ]
     },
     "execution_count": 4,
     "metadata": {},
     "output_type": "execute_result"
    }
   ],
   "source": [
    "# Convert pandas to numpy array\n",
    "\n",
    "data_array_train = np.stack(train_df['Data'])\n",
    "label_array_train = np.stack(train_df['Label'])\n",
    "\n",
    "\n",
    "data_array_test = np.stack(test_df['Data'])\n",
    "label_array_test = np.stack(test_df['Label'])\n",
    "\n",
    "\n",
    "data_array_test.shape, label_array_test.shape, \\\n",
    "data_array_train.shape, label_array_train.shape"
   ]
  },
  {
   "cell_type": "markdown",
   "id": "c538e027",
   "metadata": {},
   "source": [
    "#### Put data and labels as a torch dataset"
   ]
  },
  {
   "cell_type": "code",
   "execution_count": 5,
   "id": "6e7b1fdc",
   "metadata": {},
   "outputs": [],
   "source": [
    "class Dataset(torch.utils.data.Dataset):\n",
    "    def __init__(self, data_array, label_array):\n",
    "        self.data = torch.from_numpy(data_array).float()\n",
    "        self.labels = label_array\n",
    "\n",
    "    def __len__(self):\n",
    "        return len(self.data)\n",
    "\n",
    "    def __getitem__(self, index):\n",
    "        return self.data[index], self.labels[index]\n",
    "\n",
    "training_data = Dataset(data_array_train, label_array_train)\n",
    "testing_data = Dataset(data_array_test, label_array_test)"
   ]
  },
  {
   "cell_type": "markdown",
   "id": "27ad5d74",
   "metadata": {},
   "source": [
    "#### Using LightningDataModule to train/test etc later on. We will also split training into 80/20 for validation."
   ]
  },
  {
   "cell_type": "code",
   "execution_count": 6,
   "id": "1ac654d9",
   "metadata": {},
   "outputs": [],
   "source": [
    "\n",
    "class DataModule(pl.LightningDataModule):\n",
    "    def __init__(self, batch_size=256):\n",
    "        super().__init__()\n",
    "        self.batch_size = batch_size\n",
    "\n",
    "    def setup(self, stage: str):\n",
    "        self.test = testing_data\n",
    "        full = training_data\n",
    "        self.train, self.val = random_split(\n",
    "            full, [0.8, 0.2], generator=torch.Generator().manual_seed(12345)\n",
    "        )\n",
    "\n",
    "    def train_dataloader(self):\n",
    "        return DataLoader(self.train, batch_size=self.batch_size, shuffle=True, num_workers=NUM_WORKERS)\n",
    "\n",
    "    def val_dataloader(self):\n",
    "        return DataLoader(self.val, batch_size=self.batch_size, shuffle=False, num_workers=NUM_WORKERS)\n",
    "\n",
    "    def test_dataloader(self):\n",
    "        return DataLoader(self.test, batch_size=self.batch_size, shuffle=False, num_workers=NUM_WORKERS)\n"
   ]
  },
  {
   "cell_type": "markdown",
   "id": "e10622d9",
   "metadata": {},
   "source": [
    "#### The trainer module for transformer "
   ]
  },
  {
   "cell_type": "code",
   "execution_count": 7,
   "id": "608d6dc8",
   "metadata": {},
   "outputs": [],
   "source": [
    "NUM_CLASSES = len(set(label_array_train))\n",
    "\n",
    "class MyLitModel(pl.LightningModule):\n",
    "    def __init__(self, lr=0.05):\n",
    "        super().__init__()\n",
    "        self.save_hyperparameters()\n",
    "        self.model = ViT(\n",
    "                        seq_len = 128, # this comes from shape of input data\n",
    "                        patch_size = 4,\n",
    "                        num_classes = NUM_CLASSES,\n",
    "                        dim = 1024,\n",
    "                        depth = 6,\n",
    "                        heads = 16,\n",
    "                        mlp_dim = 2048, \n",
    "                        channels=250, # this comes from shape of input data\n",
    "                    )\n",
    "        self.train_accuracy = Accuracy(task=\"multiclass\", num_classes=NUM_CLASSES)\n",
    "        self.val_accuracy = Accuracy(task=\"multiclass\", num_classes=NUM_CLASSES)\n",
    "        self.test_accuracy = Accuracy(task=\"multiclass\", num_classes=NUM_CLASSES)\n",
    "        self.loss_fn = nn.CrossEntropyLoss()\n",
    "    \n",
    "    def forward(self, x):\n",
    "        return self.model(x)\n",
    "\n",
    "    def training_step(self, batch, batch_idx):\n",
    "        x, y = batch\n",
    "        logits = self(x)\n",
    "        loss = self.loss_fn(logits, y)\n",
    "        self.log(\"train_loss\", loss, prog_bar=True,)\n",
    "        acc = self.train_accuracy(logits, y)\n",
    "        self.log(\"train_accuracy\", acc, prog_bar=True,)\n",
    "        return loss\n",
    "\n",
    "    def validation_step(self, batch, batch_idx):\n",
    "        x, y = batch\n",
    "        logits = self(x)\n",
    "        loss = self.loss_fn(logits, y)\n",
    "        self.log(\"val_loss\", loss, prog_bar=True, )\n",
    "        acc = self.val_accuracy(logits, y)\n",
    "        self.log(\"val_accuracy\", acc, prog_bar=True,)\n",
    "        \n",
    "    def test_step(self, batch, batch_idx):\n",
    "        x, y = batch\n",
    "        logits = self(x)\n",
    "        loss = self.loss_fn(logits, y)\n",
    "        self.log(\"test_loss\", loss, prog_bar=True,)\n",
    "        acc = self.test_accuracy(logits, y)\n",
    "        self.log(\"test_accuracy\", acc, prog_bar=True,)\n",
    "\n",
    "    def configure_optimizers(self):\n",
    "        optimizer = torch.optim.SGD(self.parameters(), lr=self.hparams.lr, momentum=0.9)\n",
    "        return optimizer"
   ]
  },
  {
   "cell_type": "markdown",
   "id": "9c33ce30",
   "metadata": {},
   "source": [
    "#### Train the model and log intermediate results"
   ]
  },
  {
   "cell_type": "code",
   "execution_count": 10,
   "id": "8f68d906",
   "metadata": {},
   "outputs": [
    {
     "name": "stderr",
     "output_type": "stream",
     "text": [
      "GPU available: True (cuda), used: True\n",
      "TPU available: False, using: 0 TPU cores\n",
      "IPU available: False, using: 0 IPUs\n",
      "HPU available: False, using: 0 HPUs\n",
      "Missing logger folder: logs/ViT\n",
      "LOCAL_RANK: 0 - CUDA_VISIBLE_DEVICES: [0]\n",
      "\n",
      "  | Name           | Type               | Params\n",
      "------------------------------------------------------\n",
      "0 | model          | ViT                | 53.5 M\n",
      "1 | train_accuracy | MulticlassAccuracy | 0     \n",
      "2 | val_accuracy   | MulticlassAccuracy | 0     \n",
      "3 | test_accuracy  | MulticlassAccuracy | 0     \n",
      "4 | loss_fn        | CrossEntropyLoss   | 0     \n",
      "------------------------------------------------------\n",
      "53.5 M    Trainable params\n",
      "0         Non-trainable params\n",
      "53.5 M    Total params\n",
      "213.987   Total estimated model params size (MB)\n",
      "SLURM auto-requeueing enabled. Setting signal handlers.\n"
     ]
    },
    {
     "data": {
      "application/vnd.jupyter.widget-view+json": {
       "model_id": "",
       "version_major": 2,
       "version_minor": 0
      },
      "text/plain": [
       "Sanity Checking: |          | 0/? [00:00<?, ?it/s]"
      ]
     },
     "metadata": {},
     "output_type": "display_data"
    },
    {
     "data": {
      "application/vnd.jupyter.widget-view+json": {
       "model_id": "07d596a226a34b3bb61128fe61797780",
       "version_major": 2,
       "version_minor": 0
      },
      "text/plain": [
       "Training: |          | 0/? [00:00<?, ?it/s]"
      ]
     },
     "metadata": {},
     "output_type": "display_data"
    },
    {
     "data": {
      "application/vnd.jupyter.widget-view+json": {
       "model_id": "",
       "version_major": 2,
       "version_minor": 0
      },
      "text/plain": [
       "Validation: |          | 0/? [00:00<?, ?it/s]"
      ]
     },
     "metadata": {},
     "output_type": "display_data"
    },
    {
     "data": {
      "application/vnd.jupyter.widget-view+json": {
       "model_id": "",
       "version_major": 2,
       "version_minor": 0
      },
      "text/plain": [
       "Validation: |          | 0/? [00:00<?, ?it/s]"
      ]
     },
     "metadata": {},
     "output_type": "display_data"
    },
    {
     "data": {
      "application/vnd.jupyter.widget-view+json": {
       "model_id": "",
       "version_major": 2,
       "version_minor": 0
      },
      "text/plain": [
       "Validation: |          | 0/? [00:00<?, ?it/s]"
      ]
     },
     "metadata": {},
     "output_type": "display_data"
    },
    {
     "data": {
      "application/vnd.jupyter.widget-view+json": {
       "model_id": "",
       "version_major": 2,
       "version_minor": 0
      },
      "text/plain": [
       "Validation: |          | 0/? [00:00<?, ?it/s]"
      ]
     },
     "metadata": {},
     "output_type": "display_data"
    },
    {
     "data": {
      "application/vnd.jupyter.widget-view+json": {
       "model_id": "",
       "version_major": 2,
       "version_minor": 0
      },
      "text/plain": [
       "Validation: |          | 0/? [00:00<?, ?it/s]"
      ]
     },
     "metadata": {},
     "output_type": "display_data"
    },
    {
     "data": {
      "application/vnd.jupyter.widget-view+json": {
       "model_id": "",
       "version_major": 2,
       "version_minor": 0
      },
      "text/plain": [
       "Validation: |          | 0/? [00:00<?, ?it/s]"
      ]
     },
     "metadata": {},
     "output_type": "display_data"
    },
    {
     "data": {
      "application/vnd.jupyter.widget-view+json": {
       "model_id": "",
       "version_major": 2,
       "version_minor": 0
      },
      "text/plain": [
       "Validation: |          | 0/? [00:00<?, ?it/s]"
      ]
     },
     "metadata": {},
     "output_type": "display_data"
    },
    {
     "data": {
      "application/vnd.jupyter.widget-view+json": {
       "model_id": "",
       "version_major": 2,
       "version_minor": 0
      },
      "text/plain": [
       "Validation: |          | 0/? [00:00<?, ?it/s]"
      ]
     },
     "metadata": {},
     "output_type": "display_data"
    },
    {
     "data": {
      "application/vnd.jupyter.widget-view+json": {
       "model_id": "",
       "version_major": 2,
       "version_minor": 0
      },
      "text/plain": [
       "Validation: |          | 0/? [00:00<?, ?it/s]"
      ]
     },
     "metadata": {},
     "output_type": "display_data"
    },
    {
     "data": {
      "application/vnd.jupyter.widget-view+json": {
       "model_id": "",
       "version_major": 2,
       "version_minor": 0
      },
      "text/plain": [
       "Validation: |          | 0/? [00:00<?, ?it/s]"
      ]
     },
     "metadata": {},
     "output_type": "display_data"
    },
    {
     "data": {
      "application/vnd.jupyter.widget-view+json": {
       "model_id": "",
       "version_major": 2,
       "version_minor": 0
      },
      "text/plain": [
       "Validation: |          | 0/? [00:00<?, ?it/s]"
      ]
     },
     "metadata": {},
     "output_type": "display_data"
    },
    {
     "data": {
      "application/vnd.jupyter.widget-view+json": {
       "model_id": "",
       "version_major": 2,
       "version_minor": 0
      },
      "text/plain": [
       "Validation: |          | 0/? [00:00<?, ?it/s]"
      ]
     },
     "metadata": {},
     "output_type": "display_data"
    }
   ],
   "source": [
    "from pytorch_lightning.loggers import CSVLogger\n",
    "from pytorch_lightning.callbacks import EarlyStopping\n",
    "\n",
    "logger = CSVLogger(\"logs\", name=\"ViT\")\n",
    "\n",
    "model = MyLitModel(lr=0.05)\n",
    "\n",
    "data = DataModule()\n",
    "trainer = pl.Trainer(\n",
    "    max_epochs=100,\n",
    "    accelerator=\"auto\",\n",
    "    devices=\"auto\",\n",
    "    logger=logger,\n",
    "    callbacks=EarlyStopping('val_loss', patience=5),\n",
    "    log_every_n_steps=4\n",
    ")\n",
    "\n",
    "trainer.fit(model, datamodule=data)"
   ]
  },
  {
   "cell_type": "markdown",
   "id": "6e13de70",
   "metadata": {},
   "source": [
    "#### Test accuracy"
   ]
  },
  {
   "cell_type": "code",
   "execution_count": 11,
   "id": "43040659",
   "metadata": {},
   "outputs": [
    {
     "name": "stderr",
     "output_type": "stream",
     "text": [
      "LOCAL_RANK: 0 - CUDA_VISIBLE_DEVICES: [0]\n",
      "SLURM auto-requeueing enabled. Setting signal handlers.\n"
     ]
    },
    {
     "data": {
      "application/vnd.jupyter.widget-view+json": {
       "model_id": "38e9d45f88f64357919445716fca49ea",
       "version_major": 2,
       "version_minor": 0
      },
      "text/plain": [
       "Testing: |          | 0/? [00:00<?, ?it/s]"
      ]
     },
     "metadata": {},
     "output_type": "display_data"
    },
    {
     "name": "stdout",
     "output_type": "stream",
     "text": [
      "────────────────────────────────────────────────────────────────────────────────────────────────────────────────────────\n",
      "       Test metric             DataLoader 0\n",
      "────────────────────────────────────────────────────────────────────────────────────────────────────────────────────────\n",
      "      test_accuracy         0.6230000257492065\n",
      "        test_loss            3.817396640777588\n",
      "────────────────────────────────────────────────────────────────────────────────────────────────────────────────────────\n"
     ]
    },
    {
     "data": {
      "text/plain": [
       "[{'test_loss': 3.817396640777588, 'test_accuracy': 0.6230000257492065}]"
      ]
     },
     "execution_count": 11,
     "metadata": {},
     "output_type": "execute_result"
    }
   ],
   "source": [
    "trainer.test(model, datamodule=data)"
   ]
  },
  {
   "cell_type": "markdown",
   "id": "8cdd442a",
   "metadata": {},
   "source": [
    "#### Some plottings"
   ]
  },
  {
   "cell_type": "code",
   "execution_count": 12,
   "id": "c3197296",
   "metadata": {},
   "outputs": [
    {
     "data": {
      "text/html": [
       "<div>\n",
       "<style scoped>\n",
       "    .dataframe tbody tr th:only-of-type {\n",
       "        vertical-align: middle;\n",
       "    }\n",
       "\n",
       "    .dataframe tbody tr th {\n",
       "        vertical-align: top;\n",
       "    }\n",
       "\n",
       "    .dataframe thead th {\n",
       "        text-align: right;\n",
       "    }\n",
       "</style>\n",
       "<table border=\"1\" class=\"dataframe\">\n",
       "  <thead>\n",
       "    <tr style=\"text-align: right;\">\n",
       "      <th></th>\n",
       "      <th>epoch</th>\n",
       "      <th>step</th>\n",
       "      <th>test_accuracy</th>\n",
       "      <th>test_loss</th>\n",
       "      <th>train_accuracy</th>\n",
       "      <th>train_loss</th>\n",
       "      <th>val_accuracy</th>\n",
       "      <th>val_loss</th>\n",
       "    </tr>\n",
       "  </thead>\n",
       "  <tbody>\n",
       "    <tr>\n",
       "      <th>0</th>\n",
       "      <td>0</td>\n",
       "      <td>3</td>\n",
       "      <td>NaN</td>\n",
       "      <td>NaN</td>\n",
       "      <td>0.0</td>\n",
       "      <td>7.932872</td>\n",
       "      <td>NaN</td>\n",
       "      <td>NaN</td>\n",
       "    </tr>\n",
       "    <tr>\n",
       "      <th>1</th>\n",
       "      <td>0</td>\n",
       "      <td>6</td>\n",
       "      <td>NaN</td>\n",
       "      <td>NaN</td>\n",
       "      <td>NaN</td>\n",
       "      <td>NaN</td>\n",
       "      <td>0.0</td>\n",
       "      <td>8.36457</td>\n",
       "    </tr>\n",
       "  </tbody>\n",
       "</table>\n",
       "</div>"
      ],
      "text/plain": [
       "   epoch  step  test_accuracy  test_loss  train_accuracy  train_loss  \\\n",
       "0      0     3            NaN        NaN             0.0    7.932872   \n",
       "1      0     6            NaN        NaN             NaN         NaN   \n",
       "\n",
       "   val_accuracy  val_loss  \n",
       "0           NaN       NaN  \n",
       "1           0.0   8.36457  "
      ]
     },
     "execution_count": 12,
     "metadata": {},
     "output_type": "execute_result"
    }
   ],
   "source": [
    "logs = pd.read_csv('logs/ViT/version_0/metrics.csv')\n",
    "logs.head(2)"
   ]
  },
  {
   "cell_type": "code",
   "execution_count": 13,
   "id": "6fc21368",
   "metadata": {},
   "outputs": [
    {
     "data": {
      "image/png": "[encoded data removed]",
      "text/plain": [
       "<Figure size 640x480 with 1 Axes>"
      ]
     },
     "metadata": {},
     "output_type": "display_data"
    }
   ],
   "source": [
    "import seaborn as sns\n",
    "sns.set_theme(style='whitegrid', palette='deep', font_scale=1.,)\n",
    "\n",
    "sns.lineplot(data=logs[['train_loss', 'val_loss']], lw=2);"
   ]
  },
  {
   "cell_type": "code",
   "execution_count": 14,
   "id": "20ce3f7e",
   "metadata": {},
   "outputs": [
    {
     "data": {
      "image/png": "[encoded data removed]",
      "text/plain": [
       "<Figure size 640x480 with 1 Axes>"
      ]
     },
     "metadata": {},
     "output_type": "display_data"
    }
   ],
   "source": [
    "sns.lineplot(data=logs[['train_accuracy', 'val_accuracy']], lw=2);"
   ]
  },
  {
   "cell_type": "markdown",
   "id": "8a73aec9",
   "metadata": {},
   "source": [
    "#### The trained model and hyperparameters are inside logs/ViT/ ... directory. "
   ]
  },
  {
   "cell_type": "markdown",
   "id": "23af8f6a",
   "metadata": {},
   "source": [
    "#### This is how to load the model to do predictions on some other data later on"
   ]
  },
  {
   "cell_type": "code",
   "execution_count": 34,
   "id": "d8b7c365",
   "metadata": {},
   "outputs": [
    {
     "name": "stderr",
     "output_type": "stream",
     "text": [
      "GPU available: True (cuda), used: True\n",
      "TPU available: False, using: 0 TPU cores\n",
      "IPU available: False, using: 0 IPUs\n",
      "HPU available: False, using: 0 HPUs\n"
     ]
    },
    {
     "data": {
      "text/plain": [
       "MyLitModel(\n",
       "  (model): ViT(\n",
       "    (to_patch_embedding): Sequential(\n",
       "      (0): Rearrange('b c (n p) -> b n (p c)', p=4)\n",
       "      (1): LayerNorm((1000,), eps=1e-05, elementwise_affine=True)\n",
       "      (2): Linear(in_features=1000, out_features=1024, bias=True)\n",
       "      (3): LayerNorm((1024,), eps=1e-05, elementwise_affine=True)\n",
       "    )\n",
       "    (dropout): Dropout(p=0.0, inplace=False)\n",
       "    (transformer): Transformer(\n",
       "      (layers): ModuleList(\n",
       "        (0-5): 6 x ModuleList(\n",
       "          (0): Attention(\n",
       "            (norm): LayerNorm((1024,), eps=1e-05, elementwise_affine=True)\n",
       "            (attend): Softmax(dim=-1)\n",
       "            (dropout): Dropout(p=0.0, inplace=False)\n",
       "            (to_qkv): Linear(in_features=1024, out_features=3072, bias=False)\n",
       "            (to_out): Sequential(\n",
       "              (0): Linear(in_features=1024, out_features=1024, bias=True)\n",
       "              (1): Dropout(p=0.0, inplace=False)\n",
       "            )\n",
       "          )\n",
       "          (1): FeedForward(\n",
       "            (net): Sequential(\n",
       "              (0): LayerNorm((1024,), eps=1e-05, elementwise_affine=True)\n",
       "              (1): Linear(in_features=1024, out_features=2048, bias=True)\n",
       "              (2): GELU(approximate='none')\n",
       "              (3): Dropout(p=0.0, inplace=False)\n",
       "              (4): Linear(in_features=2048, out_features=1024, bias=True)\n",
       "              (5): Dropout(p=0.0, inplace=False)\n",
       "            )\n",
       "          )\n",
       "        )\n",
       "      )\n",
       "    )\n",
       "    (mlp_head): Sequential(\n",
       "      (0): LayerNorm((1024,), eps=1e-05, elementwise_affine=True)\n",
       "      (1): Linear(in_features=1024, out_features=2000, bias=True)\n",
       "    )\n",
       "  )\n",
       "  (train_accuracy): MulticlassAccuracy()\n",
       "  (val_accuracy): MulticlassAccuracy()\n",
       "  (test_accuracy): MulticlassAccuracy()\n",
       "  (loss_fn): CrossEntropyLoss()\n",
       ")"
      ]
     },
     "execution_count": 34,
     "metadata": {},
     "output_type": "execute_result"
    }
   ],
   "source": [
    "# Load the trainer and model\n",
    "loaded_trainer = pl.Trainer(default_root_dir=\"logs/ViT/version_0/\")\n",
    "loaded_model = MyLitModel.load_from_checkpoint(\"logs/ViT/version_0/checkpoints/epoch=11-step=84.ckpt\")\n",
    "\n",
    "# disable randomness, dropout, etc...\n",
    "loaded_model.eval()\n"
   ]
  },
  {
   "cell_type": "code",
   "execution_count": 35,
   "id": "e08c1bb1",
   "metadata": {},
   "outputs": [
    {
     "data": {
      "text/html": [
       "<div>\n",
       "<style scoped>\n",
       "    .dataframe tbody tr th:only-of-type {\n",
       "        vertical-align: middle;\n",
       "    }\n",
       "\n",
       "    .dataframe tbody tr th {\n",
       "        vertical-align: top;\n",
       "    }\n",
       "\n",
       "    .dataframe thead th {\n",
       "        text-align: right;\n",
       "    }\n",
       "</style>\n",
       "<table border=\"1\" class=\"dataframe\">\n",
       "  <thead>\n",
       "    <tr style=\"text-align: right;\">\n",
       "      <th></th>\n",
       "      <th>Data</th>\n",
       "      <th>Label</th>\n",
       "    </tr>\n",
       "  </thead>\n",
       "  <tbody>\n",
       "    <tr>\n",
       "      <th>0</th>\n",
       "      <td>[[0, 0, 3, 0, 1, 0, 0, 0, 0, 0, 0, 0, 1, 0, 0,...</td>\n",
       "      <td>0</td>\n",
       "    </tr>\n",
       "    <tr>\n",
       "      <th>1</th>\n",
       "      <td>[[1, 0, 1, 0, 0, 1, 2, 0, 0, 0, 0, 0, 0, 0, 0,...</td>\n",
       "      <td>1</td>\n",
       "    </tr>\n",
       "  </tbody>\n",
       "</table>\n",
       "</div>"
      ],
      "text/plain": [
       "                                                Data  Label\n",
       "0  [[0, 0, 3, 0, 1, 0, 0, 0, 0, 0, 0, 0, 1, 0, 0,...      0\n",
       "1  [[1, 0, 1, 0, 0, 1, 2, 0, 0, 0, 0, 0, 0, 0, 0,...      1"
      ]
     },
     "execution_count": 35,
     "metadata": {},
     "output_type": "execute_result"
    }
   ],
   "source": [
    "# load the data to to predictions on\n",
    "\n",
    "pred_df = pd.read_pickle('pred.pkl.gz')\n",
    "pred_df.head(2)"
   ]
  },
  {
   "cell_type": "code",
   "execution_count": 36,
   "id": "59281635",
   "metadata": {},
   "outputs": [
    {
     "data": {
      "text/plain": [
       "(2000, 250, 128)"
      ]
     },
     "execution_count": 36,
     "metadata": {},
     "output_type": "execute_result"
    }
   ],
   "source": [
    "# Make a numpy array of Data\n",
    "data_array_pred = np.stack(pred_df['Data'])\n",
    "data_array_pred.shape"
   ]
  },
  {
   "cell_type": "code",
   "execution_count": 37,
   "id": "03cab5dd",
   "metadata": {},
   "outputs": [],
   "source": [
    "# Make a datamodule for prediction\n",
    "\n",
    "class DataModulePredict(pl.LightningDataModule):\n",
    "    def __init__(self, batch_size=256):\n",
    "        super().__init__()\n",
    "        self.batch_size = batch_size\n",
    "\n",
    "    def setup(self, stage: str):\n",
    "        self.predict = torch.from_numpy(data_array_pred).float() \n",
    "\n",
    "    def predict_dataloader(self):\n",
    "        return DataLoader(self.predict, batch_size=self.batch_size, shuffle=False, num_workers=NUM_WORKERS)\n"
   ]
  },
  {
   "cell_type": "code",
   "execution_count": 38,
   "id": "f9cfb81d",
   "metadata": {},
   "outputs": [
    {
     "name": "stderr",
     "output_type": "stream",
     "text": [
      "LOCAL_RANK: 0 - CUDA_VISIBLE_DEVICES: [0]\n",
      "SLURM auto-requeueing enabled. Setting signal handlers.\n"
     ]
    },
    {
     "data": {
      "application/vnd.jupyter.widget-view+json": {
       "model_id": "d70eeaafc12f40e5a19285d0d75dfe58",
       "version_major": 2,
       "version_minor": 0
      },
      "text/plain": [
       "Predicting: |          | 0/? [00:00<?, ?it/s]"
      ]
     },
     "metadata": {},
     "output_type": "display_data"
    }
   ],
   "source": [
    "# Run the predictions on the data using the loaded model and loaded trainer\n",
    "preds = loaded_trainer.predict(loaded_model, datamodule=DataModulePredict())"
   ]
  },
  {
   "cell_type": "code",
   "execution_count": 40,
   "id": "59948557",
   "metadata": {},
   "outputs": [
    {
     "data": {
      "text/plain": [
       "tensor([1745,    1,  676,  344,    4, 1248, 1593,    7,  819,  757,   10,   11,\n",
       "        1394,   13,   14,   15, 1548,   17,   18,   19,   20,   21,   22,   23,\n",
       "          24,   25,   26,   27,  918,   29,  740, 1428,  220,   33, 1450,   57,\n",
       "          36,   37,   38,   39,   40,   41,   42,   43,  815,   45,   46, 1668,\n",
       "          48,   49,  122,   51,   52,   53,   54, 1654, 1062,   57,   58,   59,\n",
       "         198,   61, 1273,   63, 1985,   65,   66,   67,   68, 1232,   70, 1285,\n",
       "          72,  171,   74,   75,   76,   77,   65, 1118,   80,   81,   82,   83,\n",
       "          84,  837,   86,   87,   88, 1091,  280, 1111, 1315,   93,  965,  628,\n",
       "          96,   97,   98,   99,  100,  101,  102, 1917,  104,  105,  106,  107,\n",
       "         108,  109,  110,   93, 1385,  113,  903,  115,   65,  117,  118,  119,\n",
       "         120, 1154,  122,  724,  124, 1024, 1535,  127,  128,  129,  130, 1536,\n",
       "         132,  216,  134,  135,  963,  324, 1560,  139,  140, 1069, 1783,  289,\n",
       "         144,  324,  146, 1971,  951,  149,  999,  151,  274,  153,  954,   65,\n",
       "         156,  157,  650,  159,  315, 1664,  162,  163, 1232,  808,  166,  167,\n",
       "        1431,  433,  170,  171,   39, 1292,  174,  175,  176, 1428, 1711,  628,\n",
       "         180, 1826,  182,  183,  866,  461,  186,  187,  753,  189,  190,  191,\n",
       "         192,  107,  194,  176, 1393,  197,  198,  199,  283,  201,  202, 1664,\n",
       "        1409,  205,  206,  207, 1154,  209,  210, 1460, 1095,  213,  214,  215,\n",
       "         216,  216,  961,  676,  220,  221,  803,  223,  224,  225,  226,  227,\n",
       "         228,  229,  230,  331,  232,  233,  234, 1890, 1381, 1248,  238, 1666,\n",
       "         240,  241,  242,  387, 1851,  728,  246,  247,  248, 1778,  250,  251,\n",
       "        1986, 1004,  254,  628])"
      ]
     },
     "execution_count": 40,
     "metadata": {},
     "output_type": "execute_result"
    }
   ],
   "source": [
    "# Predictions are logits. Use argmax to find the actual label\n",
    "# For eg for the first batch of predictions:\n",
    "\n",
    "preds[0].argmax(dim=1)"
   ]
  },
  {
   "cell_type": "code",
   "execution_count": 41,
   "id": "cf309a85",
   "metadata": {},
   "outputs": [
    {
     "data": {
      "text/plain": [
       "tensor(0.6094)"
      ]
     },
     "execution_count": 41,
     "metadata": {},
     "output_type": "execute_result"
    }
   ],
   "source": [
    "# Can also find the accuracy in this new data\n",
    "# For the first batch it is like \n",
    "preds_, targets = preds[0].argmax(dim=1), np.stack(pred_df['Label'])[:256]\n",
    "\n",
    "\n",
    "accuracy = Accuracy(task=\"multiclass\", num_classes=NUM_CLASSES)\n",
    "accuracy(preds_, torch.from_numpy(targets))"
   ]
  },
  {
   "cell_type": "code",
   "execution_count": null,
   "id": "2dfe70a7",
   "metadata": {},
   "outputs": [],
   "source": []
  },
  {
   "cell_type": "code",
   "execution_count": null,
   "id": "7238129c",
   "metadata": {},
   "outputs": [],
   "source": []
  }
 ],
 "metadata": {
  "kernelspec": {
   "display_name": "Python 3 (ipykernel)",
   "language": "python",
   "name": "python3"
  },
  "language_info": {
   "codemirror_mode": {
    "name": "ipython",
    "version": 3
   },
   "file_extension": ".py",
   "mimetype": "text/x-python",
   "name": "python",
   "nbconvert_exporter": "python",
   "pygments_lexer": "ipython3",
   "version": "3.10.13"
  }
 },
 "nbformat": 4,
 "nbformat_minor": 5
}
